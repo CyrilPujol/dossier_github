{
 "cells": [
  {
   "cell_type": "code",
   "execution_count": 1,
   "metadata": {},
   "outputs": [],
   "source": [
    "import matplotlib.pyplot as plt\n",
    "import numpy as np"
   ]
  },
  {
   "cell_type": "code",
   "execution_count": 2,
   "metadata": {},
   "outputs": [],
   "source": [
    "def norm2(a,b):\n",
    "### norme usuelle dans R2 ###\n",
    "    return a**2 + b**2"
   ]
  },
  {
   "cell_type": "code",
   "execution_count": 3,
   "metadata": {},
   "outputs": [],
   "source": [
    "def make(a,b,c,d):\n",
    "### renvoie une matrice 2x2 ###\n",
    "    return np.array([[a,b],[c,d]])\n",
    "\n",
    "def get(mat):\n",
    "### renvoie les coefficients de la matrice 2x2 ###\n",
    "    return (mat[0,0],mat[0,1],mat[1,0],mat[1,1])\n",
    "\n",
    "def flip(mat):\n",
    "### effectue un flip dans la matrice 2x2 ###\n",
    "    a,b,c,d = get(mat)\n",
    "    return make(c,d,-a,-b)\n",
    "\n",
    "def turn(mat):\n",
    "### effectue l'operation turn : change la diagonale de la triangulation ###\n",
    "    a,b,c,d = get(mat)\n",
    "    return make(-c,-d,a+c,b+d)\n",
    "\n",
    "def plot(mat):\n",
    "### affiche la triangulation : seulement deux triangles ###\n",
    "    a,b,c,d = get(mat)\n",
    "    plt.axis('equal')\n",
    "    plt.plot([0,a,a+c,0,c,a+c],[0,b,b+d,0,d,b+d])\n",
    "\n",
    "def flippable_turn(mat):\n",
    "### effectue une ou plusieurs fois turn pour obtenir un triangle flippable au sens de Delaunay dans un tore carré ###\n",
    "    a,b,c,d = get(mat)\n",
    "    n1,n2,n3 = norm2(a,b),norm2(c,d),norm2(a+c,b+d)\n",
    "    if n1>=n2 and n1>=n3 :\n",
    "        return turn(mat)\n",
    "    elif n2>=n1 and n2>=n3 :\n",
    "        return turn(turn(mat))\n",
    "    else :\n",
    "        assert n3>=n1 and n3>=n2\n",
    "        return mat\n",
    "\n",
    "def is_reduced(mat):\n",
    "### renvoie vrai si la matrice est réduite ie Delaunay dans le cadre du tore carré ###\n",
    "    a,b,c,d = get(mat)\n",
    "    return abs(a)+abs(b)+abs(c)+abs(d)<3\n"
   ]
  },
  {
   "cell_type": "code",
   "execution_count": 5,
   "metadata": {},
   "outputs": [],
   "source": [
    "#mat = make(1,0,0,1)\n",
    "mat = make(7,3,9,4)"
   ]
  },
  {
   "cell_type": "code",
   "execution_count": 4,
   "metadata": {},
   "outputs": [],
   "source": [
    "def flip_algorithm(mat):\n",
    "### effectue l'algorithme de flip, renvoie le nombre de flips ###\n",
    "    i = 0\n",
    "    mat = flippable_turn(mat)\n",
    "    while not is_reduced(mat):\n",
    "        mat = flip(mat)\n",
    "        mat = flippable_turn(mat)\n",
    "        i+=1\n",
    "    return i\n",
    "\n",
    "dico_flips = {}\n",
    "def fast_flip_algorithm(mat):\n",
    "### effectue l'algorithme de flip, renvoie le nombre de flips ###\n",
    "    i = 0\n",
    "    mat_signature = get(mat) #copie la matrice\n",
    "    mat = flippable_turn(mat)\n",
    "    while not ( get(mat) in dico_flips or is_reduced(mat) ):\n",
    "        mat = flip(mat)\n",
    "        mat = flippable_turn(mat)\n",
    "        i+=1\n",
    "    \n",
    "    if get(mat) in dico_flips :\n",
    "        i+= dico_flips[get(mat)]\n",
    "    if not mat_signature in dico_flips :\n",
    "        dico_flips[mat_signature] = i\n",
    "    return i"
   ]
  },
  {
   "cell_type": "code",
   "execution_count": null,
   "metadata": {},
   "outputs": [],
   "source": []
  },
  {
   "cell_type": "code",
   "execution_count": 7,
   "metadata": {
    "tags": []
   },
   "outputs": [
    {
     "data": {
      "text/plain": [
       "6"
      ]
     },
     "execution_count": 7,
     "metadata": {},
     "output_type": "execute_result"
    }
   ],
   "source": [
    "flip_algorithm(mat)"
   ]
  },
  {
   "cell_type": "code",
   "execution_count": 5,
   "metadata": {},
   "outputs": [],
   "source": [
    "def generate_primes(n):\n",
    "### genere les nombres premiers de 2 à n-1 ###\n",
    "    l_primes = []\n",
    "    table = np.ones(n,dtype=bool)\n",
    "    table[0] = False\n",
    "    table[1] = False\n",
    "    for i in range( 2, int(np.sqrt(n)+1) ) :\n",
    "        if table[i] :\n",
    "            l_primes.append(i)\n",
    "            for j in range(2,n//i+1):\n",
    "                if i*j<n:\n",
    "                    table[i*j]=False\n",
    "    for i in range(int(np.sqrt(n)), n) :\n",
    "        if table[i] :\n",
    "            l_primes.append(i)\n",
    "    return l_primes"
   ]
  },
  {
   "cell_type": "code",
   "execution_count": 6,
   "metadata": {},
   "outputs": [],
   "source": [
    "# l_primes est une constante utilisée dans le reste du programme \n",
    "l_primes = generate_primes(10000)"
   ]
  },
  {
   "cell_type": "code",
   "execution_count": 7,
   "metadata": {},
   "outputs": [],
   "source": [
    "def find_decomp(k):\n",
    "### renvoie la décomposition en nombre premier de k, \n",
    "# sous la forme d'une liste de tuples (p,i) avec p**i qui divise k ###\n",
    "    if k==0:\n",
    "        raise Exception\n",
    "    l_decomp = []\n",
    "    for p in l_primes :\n",
    "        if k==1:\n",
    "            return l_decomp\n",
    "\n",
    "        i=0\n",
    "        while k%(p**(i+1)) ==0 : \n",
    "            i+=1\n",
    "        if i>0:\n",
    "            k = k//(p**i)\n",
    "            l_decomp.append((p,i))\n",
    "    return(l_decomp)"
   ]
  },
  {
   "cell_type": "code",
   "execution_count": 8,
   "metadata": {},
   "outputs": [
    {
     "data": {
      "text/plain": [
       "[(2, 1), (5, 1)]"
      ]
     },
     "execution_count": 8,
     "metadata": {},
     "output_type": "execute_result"
    }
   ],
   "source": [
    "find_decomp(10)"
   ]
  },
  {
   "cell_type": "code",
   "execution_count": 9,
   "metadata": {},
   "outputs": [],
   "source": [
    "def find_divisors(k):\n",
    "### renvoie la liste des diviseurs de k ###\n",
    "    l_decomp = find_decomp(k)\n",
    "    l_div = [1]\n",
    "    for (p,i) in l_decomp:\n",
    "        l_div += [ d*p**j for j in range(1,i+1) for d in l_div]\n",
    "    return l_div\n"
   ]
  },
  {
   "cell_type": "code",
   "execution_count": 13,
   "metadata": {},
   "outputs": [
    {
     "data": {
      "text/plain": [
       "[1, 71]"
      ]
     },
     "execution_count": 13,
     "metadata": {},
     "output_type": "execute_result"
    }
   ],
   "source": [
    "find_divisors(71)"
   ]
  },
  {
   "cell_type": "code",
   "execution_count": 10,
   "metadata": {},
   "outputs": [],
   "source": [
    "def generate_matricies(n):\n",
    "### genere toutes les matrices de produit diagonal au plus n, regroupées par produit diagonal\n",
    "# sous la forme d'une liste de liste de matrices ###  \n",
    "    l_primes = generate_primes(n)\n",
    "    l_mat = []\n",
    "    l_div_prec = find_divisors(1)\n",
    "    for k in range(2,n):\n",
    "        l_mat_k = []\n",
    "        l_div = find_divisors(k)\n",
    "        for d1 in l_div :\n",
    "            for d2 in l_div_prec :\n",
    "                b1 = k//d1\n",
    "                b2 = (k-1)//d2\n",
    "                l_mat_k.append(make(d1,d2,b2,b1)) # matrice associée à  k\n",
    "        l_div_prec = l_div\n",
    "        l_mat.append(l_mat_k)\n",
    "    return l_mat\n"
   ]
  },
  {
   "cell_type": "code",
   "execution_count": 15,
   "metadata": {},
   "outputs": [
    {
     "data": {
      "text/plain": [
       "[[array([[1, 1],\n",
       "         [1, 2]]),\n",
       "  array([[2, 1],\n",
       "         [1, 1]])],\n",
       " [array([[1, 1],\n",
       "         [2, 3]]),\n",
       "  array([[1, 2],\n",
       "         [1, 3]]),\n",
       "  array([[3, 1],\n",
       "         [2, 1]]),\n",
       "  array([[3, 2],\n",
       "         [1, 1]])]]"
      ]
     },
     "execution_count": 15,
     "metadata": {},
     "output_type": "execute_result"
    }
   ],
   "source": [
    "generate_matricies(4)"
   ]
  },
  {
   "cell_type": "code",
   "execution_count": 11,
   "metadata": {},
   "outputs": [],
   "source": [
    "def mat_norm(mat):\n",
    "### norme 2 de la diagonale ###\n",
    "    a,b,c,d = get(mat)\n",
    "    return np.sqrt( (a+c)**2 + (b+d)**2 )\n",
    "\n",
    "def estimation_flip(mat):\n",
    "### renvoie une estimation *précise* du nombre de flips ###\n",
    "    a,b,c,d = get(mat)\n",
    "    if min (a,d) == min(a,b,c,d):\n",
    "        return int (   np.ceil((b+c)/min(a,d))+min(a,d)-1   )\n",
    "    else:\n",
    "        return int (   np.ceil((a+d-1)/min(b,c))+min(c,b)-1   )\n",
    "    "
   ]
  },
  {
   "cell_type": "code",
   "execution_count": 24,
   "metadata": {},
   "outputs": [],
   "source": [
    "n = 800\n",
    "generated_matricies = generate_matricies(n)"
   ]
  },
  {
   "cell_type": "code",
   "execution_count": 27,
   "metadata": {},
   "outputs": [
    {
     "data": {
      "image/png": "[encoded data removed]",
      "text/plain": [
       "<Figure size 324x324 with 1 Axes>"
      ]
     },
     "metadata": {
      "needs_background": "light"
     },
     "output_type": "display_data"
    }
   ],
   "source": [
    "################################################################\n",
    "# calcul et compare le nombre de flips avec d'autres métriques #\n",
    "################################################################\n",
    "\n",
    "l_x = []\n",
    "l_y_vrai = []\n",
    "l_y_estim = []\n",
    "l_y_ecart = []\n",
    "l_m=[]\n",
    "k=2\n",
    "\n",
    "#fig, (ax1, ax2) = plt.subplots(2, 1)\n",
    "fig, ax1 = plt.subplots(1, 1)\n",
    "#fig.set_size_inches(8.5, 20.)\n",
    "fig.set_size_inches(4.5, 4.5)\n",
    "#fig.suptitle(\"Complexité de l\\'algorithme de flip\")\n",
    "\n",
    "\n",
    "for l_mat_k in generated_matricies:\n",
    "    for mat in l_mat_k:\n",
    "        number_flip = fast_flip_algorithm(mat)\n",
    "        l_x.append(mat_norm(mat))\n",
    "        l_y_vrai.append(number_flip)\n",
    "        l_y_estim.append(estimation_flip(mat))\n",
    "        l_y_ecart.append(estimation_flip(mat)-number_flip)\n",
    "        l_m.append(mat)\n",
    "    k+=1\n",
    "\n",
    "#plt.axis('equal')\n",
    "#plt.scatter(l_x,l_y_vrai,s=1,marker=\",\")\n",
    "#plt.scatter(l_x,l_y_estim,s=1,marker=\",\")\n",
    "ax1.scatter(l_x,l_y_vrai,s=1,marker=\".\")\n",
    "ax1.set_xlabel(\"diamètre\")\n",
    "ax1.set_ylabel(\"nombre de bascules \")\n",
    "#ax2.scatter(l_y_vrai,l_y_estim,s=1,marker=\".\")\n",
    "#ax2.set_xlabel(\"nombre de flips estimés en fonction du nombre de flip\")\n",
    "fig.savefig('complexite_simple.png', dpi=700)"
   ]
  },
  {
   "cell_type": "code",
   "execution_count": 65,
   "metadata": {},
   "outputs": [
    {
     "name": "stdout",
     "output_type": "stream",
     "text": [
      "matrice, estimation, nombre de flips :\n",
      " [[13  8]\n",
      " [21 13]] 11 7\n",
      "matrice, estimation, nombre de flips :\n",
      " [[13 21]\n",
      " [ 8 13]] 11 7\n",
      "matrice, estimation, nombre de flips :\n",
      " [[10 13]\n",
      " [13 17]] 12 8\n",
      "matrice, estimation, nombre de flips :\n",
      " [[17 13]\n",
      " [13 10]] 12 8\n"
     ]
    }
   ],
   "source": [
    "# fonction de test\n",
    "for i in range(len(l_m)):\n",
    "    if l_y_ecart[i] > 3:\n",
    "        print(\"matrice, estimation, nombre de flips :\\n\",l_m[i],l_y_estim[i],l_y_vrai[i])"
   ]
  },
  {
   "cell_type": "code",
   "execution_count": 22,
   "metadata": {
    "tags": []
   },
   "outputs": [
    {
     "data": {
      "text/plain": [
       "([265.03018695990085,\n",
       "  232.1055794245369,\n",
       "  221.22612865572637,\n",
       "  210.85777196963835,\n",
       "  217.33154395991392,\n",
       "  209.267771049438,\n",
       "  207.80038498520642,\n",
       "  212.82152146810716,\n",
       "  224.50167037240502,\n",
       "  282.1364917907643],\n",
       " [69, 39, 31, 29, 29, 31, 39, 69, 101, 199])"
      ]
     },
     "execution_count": 22,
     "metadata": {},
     "output_type": "execute_result"
    }
   ],
   "source": [
    "l_x[-10:],l_y_vrai[-10:]"
   ]
  },
  {
   "cell_type": "code",
   "execution_count": 66,
   "metadata": {},
   "outputs": [
    {
     "data": {
      "image/png": "[encoded data removed]",
      "text/plain": [
       "<Figure size 432x288 with 1 Axes>"
      ]
     },
     "metadata": {
      "needs_background": "light"
     },
     "output_type": "display_data"
    }
   ],
   "source": [
    "plot(mat)"
   ]
  },
  {
   "cell_type": "code",
   "execution_count": 67,
   "metadata": {},
   "outputs": [],
   "source": [
    "mat = flippable_turn(mat)\n"
   ]
  },
  {
   "cell_type": "code",
   "execution_count": 68,
   "metadata": {},
   "outputs": [],
   "source": [
    "mat = flip(mat)"
   ]
  },
  {
   "cell_type": "code",
   "execution_count": 28,
   "metadata": {},
   "outputs": [
    {
     "data": {
      "text/plain": [
       "29662"
      ]
     },
     "execution_count": 28,
     "metadata": {},
     "output_type": "execute_result"
    }
   ],
   "source": [
    "len(l_x)"
   ]
  },
  {
   "cell_type": "code",
   "execution_count": null,
   "metadata": {},
   "outputs": [],
   "source": [
    " "
   ]
  },
  {
   "cell_type": "code",
   "execution_count": null,
   "metadata": {},
   "outputs": [],
   "source": []
  },
  {
   "cell_type": "code",
   "execution_count": null,
   "metadata": {},
   "outputs": [],
   "source": []
  },
  {
   "cell_type": "code",
   "execution_count": null,
   "metadata": {},
   "outputs": [],
   "source": []
  },
  {
   "cell_type": "code",
   "execution_count": null,
   "metadata": {},
   "outputs": [],
   "source": []
  }
 ],
 "metadata": {
  "interpreter": {
   "hash": "aee8b7b246df8f9039afb4144a1f6fd8d2ca17a180786b69acc140d282b71a49"
  },
  "kernelspec": {
   "display_name": "Python 3.8.6 64-bit",
   "name": "python3"
  },
  "language_info": {
   "codemirror_mode": {
    "name": "ipython",
    "version": 3
   },
   "file_extension": ".py",
   "mimetype": "text/x-python",
   "name": "python",
   "nbconvert_exporter": "python",
   "pygments_lexer": "ipython3",
   "version": "3.8.6"
  },
  "orig_nbformat": 4
 },
 "nbformat": 4,
 "nbformat_minor": 2
}
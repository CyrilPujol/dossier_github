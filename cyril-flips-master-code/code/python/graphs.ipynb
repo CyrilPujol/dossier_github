{
 "cells": [
  {
   "cell_type": "markdown",
   "metadata": {},
   "source": [
    "This is a test program to plot graphics"
   ]
  },
  {
   "cell_type": "code",
   "execution_count": 1,
   "metadata": {},
   "outputs": [],
   "source": [
    "import numpy as np\n",
    "import matplotlib.pyplot as plt\n",
    "import os"
   ]
  },
  {
   "cell_type": "code",
   "execution_count": null,
   "metadata": {},
   "outputs": [],
   "source": []
  },
  {
   "cell_type": "code",
   "execution_count": 6,
   "metadata": {},
   "outputs": [],
   "source": [
    "def exp_gen(out_max,in_max,x):\n",
    "    if in_max > 1:\n",
    "        return( int ( x + ((out_max-in_max+1)**(1/(in_max-1)))**x ) )\n",
    "    else :\n",
    "        return( int (out_max) )"
   ]
  },
  {
   "cell_type": "markdown",
   "metadata": {},
   "source": [
    "Création des données"
   ]
  },
  {
   "cell_type": "code",
   "execution_count": 52,
   "metadata": {},
   "outputs": [
    {
     "name": "stdout",
     "output_type": "stream",
     "text": [
      "- 100% \n"
     ]
    }
   ],
   "source": [
    "dim = (10,1)\n",
    "mat_x = np.zeros(dim,dtype=float)\n",
    "mat_y = np.zeros(dim,dtype=int)\n",
    "out_max_m = 500\n",
    "out_max_n = 100\n",
    "\n",
    "for m in range(dim[1]):\n",
    "    vertex = exp_gen(out_max_m,dim[1],m)\n",
    "    f0 = open(\"../data/vertex_limit.cin\", \"w\")\n",
    "    f0.write(str(vertex))\n",
    "    f0.close()\n",
    "\n",
    "    for n in range(dim[0]):\n",
    "        x = exp_gen(out_max_n,dim[0],n)\n",
    "        f1 = open(\"../data/twist.cin\", \"w\")\n",
    "        f1.write(str(x))\n",
    "        # l_x.append(x) # pour avoir x = nombre de twists\n",
    "        f1.close()\n",
    "\n",
    "        os.system(\"cd /Users/cyril/Desktop/dossiers_cyril/stage/cyril-flips/code; ./demo\")\n",
    "        #print(vertex,x)\n",
    "\n",
    "        f2 = open(\"../resultats/output.cin\")\n",
    "        ligne = f2.read()\n",
    "        [diametre,flips] = ligne.split(\" \")\n",
    "        mat_x[n,m]= (float(diametre))\n",
    "        mat_y[n,m]= (int  (flips))\n",
    "        f2.close()\n",
    "    print(\"- %i%% \" % ((m+1)*100/(dim[1])))\n",
    "\n",
    "mat_x_archive = np.copy(mat_x)\n",
    "mat_y_archive = np.copy(mat_y)\n"
   ]
  },
  {
   "cell_type": "code",
   "execution_count": 392,
   "metadata": {},
   "outputs": [],
   "source": [
    "def derive(mat1,mat2,lissage=1):\n",
    "    return ( (mat1[lissage:,:] - mat1[:-lissage,::])/(mat2[lissage:,:] - mat2[:-lissage,::])\n",
    "           , (mat2[lissage:,:] + mat2[:-lissage,::])/2        )\n",
    "\n",
    "def derive_log(mat1,mat2,lissage=1):\n",
    "    m1,m2 = derive(np.log(mat1),np.log(mat2),lissage=lissage)\n",
    "    return m1,np.exp(m2)"
   ]
  },
  {
   "cell_type": "code",
   "execution_count": 819,
   "metadata": {},
   "outputs": [],
   "source": [
    "def matrice_max(mat1,mat2):\n",
    "    assert np.shape(mat1) == np.shape(mat2)\n",
    "    mat3 = np.zeros_like(mat1)\n",
    "    for index in np.ndindex(np.shape(mat1)):\n",
    "        mat3[index] = max(mat1[index],mat2[index])\n",
    "    return mat3\n",
    "\n",
    "def matrice_smooth_max(mat1,mat2,alpha=2):\n",
    "    return (mat1**alpha + mat2**alpha)**(1/alpha)"
   ]
  },
  {
   "cell_type": "code",
   "execution_count": 233,
   "metadata": {},
   "outputs": [
    {
     "name": "stdout",
     "output_type": "stream",
     "text": [
      "(array([[1., 1., 1.]]), array([[2., 2., 2.]]))\n",
      "[    6    16    21    20    19    20    25    26    28    31    32    36\n",
      "    42    49    56    66    72    88   102   120   144   176   215   263\n",
      "   326   404   502   629   783   981  1233  1551  1955  2464  3106  3924\n",
      "  4954  6262  7914 10014]\n",
      "[ 7.9489571   1.36963787 -0.67843526  0.          1.50968843  1.50639843\n",
      "  0.75227563  1.0021245   0.6677239   0.71508252  1.2510321   1.30074142\n",
      "  1.07736231  1.13365832  0.8890667   0.95665484  1.03457908  0.91433274\n",
      "  0.95458017  1.00003572  1.01431469  0.9886476   1.00909091  1.01439579\n",
      "  1.00000568  1.00896861  0.9964539   0.9915493   1.00000222  1.00000175\n",
      "  1.00277778  1.00219539  0.99826539  1.          0.99945917  0.9991453\n",
      "  0.99932478  1.0002666 ]\n"
     ]
    }
   ],
   "source": [
    "mat_test  = np.array([[1,4,2],[2,5,3],[3,6,4]])\n",
    "mat_test2 = np.array([[1,1,1],[2,2,2],[3,3,3]])\n",
    "print(derive(mat_test,mat_test2))\n",
    "mat_y_derive,mat_x_derive = derive(mat_y,mat_x)\n",
    "print(mat_y[:,1])\n",
    "print(mat_y_derive[:,1])"
   ]
  },
  {
   "cell_type": "code",
   "execution_count": 225,
   "metadata": {},
   "outputs": [
    {
     "name": "stdout",
     "output_type": "stream",
     "text": [
      "[1, 3, 6, 13, 26, 52, 110, 232, 497, 1069, 2310, 5000]\n"
     ]
    }
   ],
   "source": [
    "print([exp_gen(out_max_m,dim[1],m) for m in range(dim[1])])"
   ]
  },
  {
   "cell_type": "markdown",
   "metadata": {},
   "source": [
    "Plots"
   ]
  },
  {
   "cell_type": "code",
   "execution_count": 34,
   "metadata": {},
   "outputs": [
    {
     "data": {
      "image/png": "[encoded data removed]",
      "text/plain": [
       "<Figure size 324x324 with 1 Axes>"
      ]
     },
     "metadata": {
      "needs_background": "light"
     },
     "output_type": "display_data"
    },
    {
     "data": {
      "text/plain": [
       "<Figure size 432x288 with 0 Axes>"
      ]
     },
     "metadata": {},
     "output_type": "display_data"
    }
   ],
   "source": [
    "fig, ax1 = plt.subplots(1, 1)\n",
    "fig.set_size_inches(4.5, 4.5)\n",
    "fig = plt.figure()\n",
    "#mat_nb_pts = np.array([[exp_gen(5000,12,m) for m in range(12)]for x in range(len(mat_y))])\n",
    "#mat_estim = matrice_smooth_max( 2.3 * mat_nb_pts * (np.log(mat_x) + 1) , mat_x ,alpha=1.5)\n",
    "#ax1.plot(mat_x,mat_estim,c=\"green\",linewidth = 0.1)\n",
    "ax1.plot(mat_x,mat_y,c=\"grey\",linewidth = 0.5)\n",
    "#ax1.plot(mat_x,mat_x,c=\"green\",linewidth = 0.01)\n",
    "#ax1.plot(l_x,[1.05*x + 800 for x in l_x],c=\"green\")\n",
    "ax1.plot(mat_x,mat_y,\".\",c=\"red\",markersize = 5.1)\n",
    "\n",
    "#plt.plot([],[],c=\"green\",linewidth = 0.1,label=\"estimation\")\n",
    "ax1.plot([],[],c=\"grey\",linewidth = 2,label=\"interpolation\")\n",
    "ax1.plot([],[],\".\",c=\"red\",markersize = 5,label=\"valeurs vraies\")\n",
    "\n",
    "ax1.set_title(\"Stratégie par pile\")\n",
    "ax1.legend() #\"approximation affine\"\n",
    "ax1.set_xlabel(\"Diamètre\")\n",
    "ax1.set_ylabel(\"Bascules\")\n",
    "#ax1.suptitle(\"choix par angle \")\n",
    "#ax1.yscale('log',base=2)\n",
    "#ax1.xscale('log',base=2)\n",
    "#ax1.ylim([1,2**14])\n",
    "#ax1.xlim([1,1000])\n",
    "fig.savefig('complexite_pile.png', dpi=500)"
   ]
  },
  {
   "cell_type": "code",
   "execution_count": 818,
   "metadata": {},
   "outputs": [
    {
     "data": {
      "image/png": "[encoded data removed]",
      "text/plain": [
       "<Figure size 432x288 with 1 Axes>"
      ]
     },
     "metadata": {
      "needs_background": "light"
     },
     "output_type": "display_data"
    }
   ],
   "source": [
    "fig = plt.figure()\n",
    "mat_y_derive_l10,mat_x_derive_l10 = derive(mat_y-mat_x,mat_x,lissage=5)\n",
    "mat_y_derive_l10 = mat_y_derive_l10 * mat_x_derive_l10\n",
    "mat_y_derive,mat_x_derive = derive(mat_y,mat_x,lissage=2)\n",
    "#plt.plot(mat_x_derive,mat_y_derive,c=\"black\",linewidth = 0.05)\n",
    "#plt.plot(mat_x_derive,mat_y_derive,\".\",c=\"orange\",markersize = .3)\n",
    "\n",
    "plt.plot(mat_x_derive_l10,mat_y_derive_l10,c=\"black\",linewidth = 0.15)\n",
    "plt.plot(mat_x_derive_l10,mat_y_derive_l10,\".\",c=\"red\",markersize = .5)\n",
    "plt.plot(mat_x_derive_l10,mat_x_derive_l10,c=\"green\",linewidth = .01)\n",
    "plt.plot(mat_x_derive_l10,np.array([[2.3*exp_gen(5000,12,m) for m in range(12)]for x in range(len(mat_x_derive_l10))]) ,linewidth = .1  )\n",
    "\n",
    "plt.title(\"Dérivée du nombre de flips en fonction du diametre (échelle log)\")\n",
    "#plt.suptitle(\"échelle log \")\n",
    "plt.yscale('log',base=2)\n",
    "plt.xscale('log',base=2)\n",
    "plt.ylim([2**0,2**15])\n",
    "fig.savefig('complexite_derivee_comparaison_lissage_moins_x.png', dpi=500)\n"
   ]
  },
  {
   "cell_type": "code",
   "execution_count": 447,
   "metadata": {},
   "outputs": [
    {
     "data": {
      "image/png": "[encoded data removed]",
      "text/plain": [
       "<Figure size 432x288 with 1 Axes>"
      ]
     },
     "metadata": {
      "needs_background": "light"
     },
     "output_type": "display_data"
    }
   ],
   "source": [
    "fig = plt.figure()\n",
    "mat_y_derive,mat_x_derive         = derive(mat_y,mat_x,lissage=10)\n",
    "mat_y_derive_snd,mat_x_derive_snd = derive_log(mat_y_derive,mat_x_derive,lissage=10)\n",
    "plt.plot(mat_x_derive_snd,mat_y_derive_snd,c=\"black\",linewidth = 0.15)\n",
    "plt.plot(mat_x_derive_snd,mat_y_derive_snd,\".\",c=\"red\",markersize = .5)\n",
    "\n",
    "plt.title(\"Dérivée du log de la dérivée du nombre de flips en fonction du diametre \")\n",
    "#plt.suptitle(\"échelle log \")\n",
    "#plt.yscale('log',base=2)\n",
    "plt.xscale('log',base=2)\n",
    "#plt.axis([0,200,0,200])\n",
    "fig.savefig('complexite_double_derivee_comparaison_lissage.png', dpi=500)"
   ]
  },
  {
   "cell_type": "code",
   "execution_count": 53,
   "metadata": {},
   "outputs": [],
   "source": [
    "mat_x_angle_inverse = np.copy(mat_x)\n",
    "mat_y_angle_inverse = np.copy(mat_y)"
   ]
  },
  {
   "cell_type": "code",
   "execution_count": 79,
   "metadata": {},
   "outputs": [
    {
     "data": {
      "image/png": "[encoded data removed]",
      "text/plain": [
       "<Figure size 324x324 with 1 Axes>"
      ]
     },
     "metadata": {
      "needs_background": "light"
     },
     "output_type": "display_data"
    }
   ],
   "source": [
    "### Comparaison\n",
    "\n",
    "fig, ax1 = plt.subplots(1, 1)\n",
    "fig.set_size_inches(4.5, 4.5)\n",
    "\n",
    "#taille_inverse\n",
    "ax1.plot(mat_x_taille_inverse[::,0],mat_y_taille_inverse[::,0],c=\"grey\",linewidth = 0.5)\n",
    "ax1.plot(mat_x_taille_inverse[::,0],mat_y_taille_inverse[::,0],\".\",c=(0.8,.1,.1),markersize = 5.1,label = \"taille_inverse\")\n",
    "\n",
    "\n",
    "#angle_inverse\n",
    "ax1.plot(mat_x_angle_inverse[::,0],mat_y_angle_inverse[::,0],c=\"grey\",linewidth = 0.5)\n",
    "ax1.plot(mat_x_angle_inverse[::,0],mat_y_angle_inverse[::,0],\".\",c=(0.7,.3,.1),markersize = 5.1,label = \"angle_inverse\")\n",
    "\n",
    "\n",
    "#pile\n",
    "ax1.plot(mat_x_pile[::,0],mat_y_pile[::,0],c=\"grey\",linewidth = 0.5)\n",
    "ax1.plot(mat_x_pile[::,0],mat_y_pile[::,0],\".\",c=(0.6,.5,.1),markersize = 5.1,label = \"pile\")\n",
    "\n",
    "\n",
    "#file\n",
    "ax1.plot(mat_x_file[::,0],mat_y_file[::,0],c=\"grey\",linewidth = 0.5)\n",
    "ax1.plot(mat_x_file[::,0],mat_y_file[::,0],\".\",c=(0.5,.6,.1),markersize = 5.1,label = \"file\")\n",
    "\n",
    "\n",
    "#angle\n",
    "ax1.plot(mat_x_angle[::,0],mat_y_angle[::,0],c=\"grey\",linewidth = 0.5)\n",
    "ax1.plot(mat_x_angle[::,0],mat_y_angle[::,0],\".\",c=(0.3,.7,.1),markersize = 5.1,label = \"angle\")\n",
    "\n",
    "\n",
    "#taille\n",
    "ax1.plot(mat_x_taille[::,0],mat_y_taille[::,0],c=\"grey\",linewidth = 0.5)\n",
    "ax1.plot(mat_x_taille[::,0],mat_y_taille[::,0],\".\",c=(0.1,.8,.1),markersize = 5.1,label = \"taille\")\n",
    "\n",
    "ax1.plot([],[],c=\"grey\",linewidth = 2,label=\"interpolation\")\n",
    "\n",
    "ax1.set_title(\"Comparaison des stratégies\")\n",
    "ax1.legend()\n",
    "ax1.set_xlabel(\"Diamètre\")\n",
    "ax1.set_ylabel(\"Nombre de bascules\")\n",
    "#ax1.suptitle(\"choix par angle \")\n",
    "#ax1.yscale('log',base=2)\n",
    "#ax1.xscale('log',base=2)\n",
    "#ax1.ylim([1,2**14])\n",
    "#ax1.xlim([1,1000])\n",
    "fig.savefig('complexite_strategies.png', dpi=700)"
   ]
  },
  {
   "cell_type": "markdown",
   "metadata": {},
   "source": [
    "Estimation"
   ]
  },
  {
   "cell_type": "code",
   "execution_count": 558,
   "metadata": {},
   "outputs": [],
   "source": [
    "def estimation(m,x,a=11750,b=0.2,c=15750): #m=5000\n",
    "    m = m\n",
    "    result = (a*np.log(x) + b*x + c) \n",
    "    return result"
   ]
  },
  {
   "cell_type": "code",
   "execution_count": 640,
   "metadata": {},
   "outputs": [
    {
     "data": {
      "image/png": "[encoded data removed]",
      "text/plain": [
       "<Figure size 432x288 with 1 Axes>"
      ]
     },
     "metadata": {
      "needs_background": "light"
     },
     "output_type": "display_data"
    }
   ],
   "source": [
    "fig = plt.figure()\n",
    "v_x,v_y = (mat_x[::,-4],mat_y[::,-4]) \n",
    "v_estim = np.array([estimation(m,x,1375,1,1175) for x in v_x])\n",
    "T = len(v_x)\n",
    "m = 497\n",
    "mat_nb_pts = np.array([[exp_gen(5000,12,m) for m in range(12)]for x in range(len(mat_y))])\n",
    "mat_a = 2.7 * mat_nb_pts\n",
    "\n",
    "\n",
    "#plt.plot(v_x,np.transpose([  np.array([estimation(m,x,a=a,b=1,c=975) for x in v_x]) for a in np.linspace(800,1200,10) ]  ),linewidth = 0.1)\n",
    "#plt.plot(v_x,np.transpose([ v_y - np.array([estimation(m,x,b=b) for x in v_x]) for b in np.linspace(0.1,0.3,10) ]  ))\n",
    "\n",
    "plt.plot(v_x,np.transpose( [ v_y[i] - v_x[i] for i in range(T)]  ),linewidth = 0.1)\n",
    "\n",
    "#plt.plot(v_x,v_y,c=\"grey\",linewidth = 0.2)      #extrapolations\n",
    "#plt.plot(v_x,v_y,\".\",c=\"red\",markersize = 1)       #valeurs vraies\n",
    "#plt.plot(v_x,v_estim,c=\"green\",linewidth = 0.1)      #estimation \n",
    "#plt.plot(v_x,v_y/v_estim)     # ratio\n",
    "#plt.plot(v_x,v_y-v_estim)     # difference\n",
    "\n",
    "m_alpha = np.zeros((T,T))\n",
    "for i in range(T):\n",
    "    for j in range(T):\n",
    "        if i==j :\n",
    "            m_alpha[i,j] = -np.inf\n",
    "        else : \n",
    "            m_alpha[i,j] = (v_y[i] - v_y[j] - v_x[i] + v_x[j]) / ( np.log(v_x[i]) - np.log(v_x[j]) )\n",
    "\n",
    "plt.title(\"Comparaison complexité réelle et estimation\")\n",
    "#plt.legend([\"valeurs réelles reliées\",\"valeurs réelles\"]) #\"approximation affine\"\n",
    "#plt.suptitle(\"choix par angle \")\n",
    "plt.yscale('log',base=2)\n",
    "plt.xscale('log',base=2)\n",
    "fig.savefig('complexite_comparaison_simulation.png', dpi=500)"
   ]
  },
  {
   "cell_type": "code",
   "execution_count": 402,
   "metadata": {},
   "outputs": [
    {
     "name": "stdout",
     "output_type": "stream",
     "text": [
      "m :  1\n",
      "m :  3\n",
      "m :  6\n",
      "m :  13\n",
      "m :  26\n",
      "m :  52\n",
      "m :  110\n",
      "m :  232\n",
      "m :  497\n",
      "m :  1069\n",
      "m :  2310\n",
      "m :  5000\n",
      "n :  1\n",
      "n :  2\n",
      "n :  3\n",
      "n :  5\n",
      "n :  6\n",
      "n :  8\n",
      "n :  10\n",
      "n :  12\n",
      "n :  14\n",
      "n :  17\n",
      "n :  20\n",
      "n :  24\n",
      "n :  28\n",
      "n :  34\n",
      "n :  41\n",
      "n :  49\n",
      "n :  59\n",
      "n :  72\n",
      "n :  88\n",
      "n :  107\n",
      "n :  132\n",
      "n :  163\n",
      "n :  202\n",
      "n :  251\n",
      "n :  312\n",
      "n :  390\n",
      "n :  488\n",
      "n :  613\n",
      "n :  770\n",
      "n :  968\n",
      "n :  1220\n",
      "n :  1538\n",
      "n :  1940\n",
      "n :  2449\n",
      "n :  3093\n",
      "n :  3909\n",
      "n :  4942\n",
      "n :  6249\n",
      "n :  7904\n",
      "n :  10000\n"
     ]
    }
   ],
   "source": [
    "dim = (40,12)\n",
    "out_max_m = 5000\n",
    "out_max_n = 10000\n",
    "for m in range(dim[1]):\n",
    "    print(\"m : \",exp_gen(out_max_m,dim[1],m))\n",
    "for n in range(dim[0]):\n",
    "    print(\"n : \",exp_gen(out_max_n,dim[0],n))"
   ]
  },
  {
   "cell_type": "code",
   "execution_count": 222,
   "metadata": {},
   "outputs": [
    {
     "data": {
      "text/plain": [
       "array([[2.23607e+00, 2.23607e+00, 2.23607e+00, 2.23607e+00, 2.23607e+00,\n",
       "        2.23607e+00, 2.23607e+00, 2.23607e+00, 2.23607e+00, 2.23607e+00,\n",
       "        2.23607e+00, 2.23607e+00],\n",
       "       [3.16228e+00, 3.16228e+00, 3.16228e+00, 3.16228e+00, 3.16228e+00,\n",
       "        3.16228e+00, 3.16228e+00, 3.16228e+00, 3.16228e+00, 3.16228e+00,\n",
       "        3.16228e+00, 3.16228e+00],\n",
       "       [4.12311e+00, 4.12311e+00, 4.12311e+00, 4.12311e+00, 4.12311e+00,\n",
       "        4.12311e+00, 4.12311e+00, 4.12311e+00, 4.12311e+00, 4.12311e+00,\n",
       "        4.12311e+00, 4.12311e+00],\n",
       "       [6.08276e+00, 6.08276e+00, 6.08276e+00, 6.08276e+00, 6.08276e+00,\n",
       "        6.08276e+00, 6.08276e+00, 6.08276e+00, 6.08276e+00, 6.08276e+00,\n",
       "        6.08276e+00, 6.08276e+00],\n",
       "       [7.07107e+00, 7.07107e+00, 7.07107e+00, 7.07107e+00, 7.07107e+00,\n",
       "        7.07107e+00, 7.07107e+00, 7.07107e+00, 7.07107e+00, 7.07107e+00,\n",
       "        7.07107e+00, 7.07107e+00],\n",
       "       [9.05539e+00, 9.05539e+00, 9.05539e+00, 9.05539e+00, 9.05539e+00,\n",
       "        9.05539e+00, 9.05539e+00, 9.05539e+00, 9.05539e+00, 9.05539e+00,\n",
       "        9.05539e+00, 9.05539e+00],\n",
       "       [1.10454e+01, 1.10454e+01, 1.10454e+01, 1.10454e+01, 1.10454e+01,\n",
       "        1.10454e+01, 1.10454e+01, 1.10454e+01, 1.10454e+01, 1.10454e+01,\n",
       "        1.10454e+01, 1.10454e+01],\n",
       "       [1.30384e+01, 1.30384e+01, 1.30384e+01, 1.30384e+01, 1.30384e+01,\n",
       "        1.30384e+01, 1.30384e+01, 1.30384e+01, 1.30384e+01, 1.30384e+01,\n",
       "        1.30384e+01, 1.30384e+01],\n",
       "       [1.50333e+01, 1.50333e+01, 1.50333e+01, 1.50333e+01, 1.50333e+01,\n",
       "        1.50333e+01, 1.50333e+01, 1.50333e+01, 1.50333e+01, 1.50333e+01,\n",
       "        1.50333e+01, 1.50333e+01],\n",
       "       [1.80278e+01, 1.80278e+01, 1.80278e+01, 1.80278e+01, 1.80278e+01,\n",
       "        1.80278e+01, 1.80278e+01, 1.80278e+01, 1.80278e+01, 1.80278e+01,\n",
       "        1.80278e+01, 1.80278e+01],\n",
       "       [2.10238e+01, 2.10238e+01, 2.10238e+01, 2.10238e+01, 2.10238e+01,\n",
       "        2.10238e+01, 2.10238e+01, 2.10238e+01, 2.10238e+01, 2.10238e+01,\n",
       "        2.10238e+01, 2.10238e+01],\n",
       "       [2.50200e+01, 2.50200e+01, 2.50200e+01, 2.50200e+01, 2.50200e+01,\n",
       "        2.50200e+01, 2.50200e+01, 2.50200e+01, 2.50200e+01, 2.50200e+01,\n",
       "        2.50200e+01, 2.50200e+01],\n",
       "       [2.90172e+01, 2.90172e+01, 2.90172e+01, 2.90172e+01, 2.90172e+01,\n",
       "        2.90172e+01, 2.90172e+01, 2.90172e+01, 2.90172e+01, 2.90172e+01,\n",
       "        2.90172e+01, 2.90172e+01],\n",
       "       [3.50143e+01, 3.50143e+01, 3.50143e+01, 3.50143e+01, 3.50143e+01,\n",
       "        3.50143e+01, 3.50143e+01, 3.50143e+01, 3.50143e+01, 3.50143e+01,\n",
       "        3.50143e+01, 3.50143e+01],\n",
       "       [4.20119e+01, 4.20119e+01, 4.20119e+01, 4.20119e+01, 4.20119e+01,\n",
       "        4.20119e+01, 4.20119e+01, 4.20119e+01, 4.20119e+01, 4.20119e+01,\n",
       "        4.20119e+01, 4.20119e+01],\n",
       "       [5.00100e+01, 5.00100e+01, 5.00100e+01, 5.00100e+01, 5.00100e+01,\n",
       "        5.00100e+01, 5.00100e+01, 5.00100e+01, 5.00100e+01, 5.00100e+01,\n",
       "        5.00100e+01, 5.00100e+01],\n",
       "       [6.00083e+01, 6.00083e+01, 6.00083e+01, 6.00083e+01, 6.00083e+01,\n",
       "        6.00083e+01, 6.00083e+01, 6.00083e+01, 6.00083e+01, 6.00083e+01,\n",
       "        6.00083e+01, 6.00083e+01],\n",
       "       [7.30068e+01, 7.30068e+01, 7.30068e+01, 7.30068e+01, 7.30068e+01,\n",
       "        7.30068e+01, 7.30068e+01, 7.30068e+01, 7.30068e+01, 7.30068e+01,\n",
       "        7.30068e+01, 7.30068e+01],\n",
       "       [8.90056e+01, 8.90056e+01, 8.90056e+01, 8.90056e+01, 8.90056e+01,\n",
       "        8.90056e+01, 8.90056e+01, 8.90056e+01, 8.90056e+01, 8.90056e+01,\n",
       "        8.90056e+01, 8.90056e+01],\n",
       "       [1.08005e+02, 1.08005e+02, 1.08005e+02, 1.08005e+02, 1.08005e+02,\n",
       "        1.08005e+02, 1.08005e+02, 1.08005e+02, 1.08005e+02, 1.08005e+02,\n",
       "        1.08005e+02, 1.08005e+02],\n",
       "       [1.33004e+02, 1.33004e+02, 1.33004e+02, 1.33004e+02, 1.33004e+02,\n",
       "        1.33004e+02, 1.33004e+02, 1.33004e+02, 1.33004e+02, 1.33004e+02,\n",
       "        1.33004e+02, 1.33004e+02],\n",
       "       [1.64003e+02, 1.64003e+02, 1.64003e+02, 1.64003e+02, 1.64003e+02,\n",
       "        1.64003e+02, 1.64003e+02, 1.64003e+02, 1.64003e+02, 1.64003e+02,\n",
       "        1.64003e+02, 1.64003e+02],\n",
       "       [2.03002e+02, 2.03002e+02, 2.03002e+02, 2.03002e+02, 2.03002e+02,\n",
       "        2.03002e+02, 2.03002e+02, 2.03002e+02, 2.03002e+02, 2.03002e+02,\n",
       "        2.03002e+02, 2.03002e+02],\n",
       "       [2.52002e+02, 2.52002e+02, 2.52002e+02, 2.52002e+02, 2.52002e+02,\n",
       "        2.52002e+02, 2.52002e+02, 2.52002e+02, 2.52002e+02, 2.52002e+02,\n",
       "        2.52002e+02, 2.52002e+02],\n",
       "       [3.13002e+02, 3.13002e+02, 3.13002e+02, 3.13002e+02, 3.13002e+02,\n",
       "        3.13002e+02, 3.13002e+02, 3.13002e+02, 3.13002e+02, 3.13002e+02,\n",
       "        3.13002e+02, 3.13002e+02],\n",
       "       [3.91001e+02, 3.91001e+02, 3.91001e+02, 3.91001e+02, 3.91001e+02,\n",
       "        3.91001e+02, 3.91001e+02, 3.91001e+02, 3.91001e+02, 3.91001e+02,\n",
       "        3.91001e+02, 3.91001e+02],\n",
       "       [4.89001e+02, 4.89001e+02, 4.89001e+02, 4.89001e+02, 4.89001e+02,\n",
       "        4.89001e+02, 4.89001e+02, 4.89001e+02, 4.89001e+02, 4.89001e+02,\n",
       "        4.89001e+02, 4.89001e+02],\n",
       "       [6.14001e+02, 6.14001e+02, 6.14001e+02, 6.14001e+02, 6.14001e+02,\n",
       "        6.14001e+02, 6.14001e+02, 6.14001e+02, 6.14001e+02, 6.14001e+02,\n",
       "        6.14001e+02, 6.14001e+02],\n",
       "       [7.71001e+02, 7.71001e+02, 7.71001e+02, 7.71001e+02, 7.71001e+02,\n",
       "        7.71001e+02, 7.71001e+02, 7.71001e+02, 7.71001e+02, 7.71001e+02,\n",
       "        7.71001e+02, 7.71001e+02],\n",
       "       [9.69001e+02, 9.69001e+02, 9.69001e+02, 9.69001e+02, 9.69001e+02,\n",
       "        9.69001e+02, 9.69001e+02, 9.69001e+02, 9.69001e+02, 9.69001e+02,\n",
       "        9.69001e+02, 9.69001e+02],\n",
       "       [1.22100e+03, 1.22100e+03, 1.22100e+03, 1.22100e+03, 1.22100e+03,\n",
       "        1.22100e+03, 1.22100e+03, 1.22100e+03, 1.22100e+03, 1.22100e+03,\n",
       "        1.22100e+03, 1.22100e+03],\n",
       "       [1.53900e+03, 1.53900e+03, 1.53900e+03, 1.53900e+03, 1.53900e+03,\n",
       "        1.53900e+03, 1.53900e+03, 1.53900e+03, 1.53900e+03, 1.53900e+03,\n",
       "        1.53900e+03, 1.53900e+03],\n",
       "       [1.94100e+03, 1.94100e+03, 1.94100e+03, 1.94100e+03, 1.94100e+03,\n",
       "        1.94100e+03, 1.94100e+03, 1.94100e+03, 1.94100e+03, 1.94100e+03,\n",
       "        1.94100e+03, 1.94100e+03],\n",
       "       [2.45000e+03, 2.45000e+03, 2.45000e+03, 2.45000e+03, 2.45000e+03,\n",
       "        2.45000e+03, 2.45000e+03, 2.45000e+03, 2.45000e+03, 2.45000e+03,\n",
       "        2.45000e+03, 2.45000e+03],\n",
       "       [3.09400e+03, 3.09400e+03, 3.09400e+03, 3.09400e+03, 3.09400e+03,\n",
       "        3.09400e+03, 3.09400e+03, 3.09400e+03, 3.09400e+03, 3.09400e+03,\n",
       "        3.09400e+03, 3.09400e+03],\n",
       "       [3.91000e+03, 3.91000e+03, 3.91000e+03, 3.91000e+03, 3.91000e+03,\n",
       "        3.91000e+03, 3.91000e+03, 3.91000e+03, 3.91000e+03, 3.91000e+03,\n",
       "        3.91000e+03, 3.91000e+03],\n",
       "       [4.94300e+03, 4.94300e+03, 4.94300e+03, 4.94300e+03, 4.94300e+03,\n",
       "        4.94300e+03, 4.94300e+03, 4.94300e+03, 4.94300e+03, 4.94300e+03,\n",
       "        4.94300e+03, 4.94300e+03],\n",
       "       [6.25000e+03, 6.25000e+03, 6.25000e+03, 6.25000e+03, 6.25000e+03,\n",
       "        6.25000e+03, 6.25000e+03, 6.25000e+03, 6.25000e+03, 6.25000e+03,\n",
       "        6.25000e+03, 6.25000e+03],\n",
       "       [7.90500e+03, 7.90500e+03, 7.90500e+03, 7.90500e+03, 7.90500e+03,\n",
       "        7.90500e+03, 7.90500e+03, 7.90500e+03, 7.90500e+03, 7.90500e+03,\n",
       "        7.90500e+03, 7.90500e+03],\n",
       "       [1.00010e+04, 1.00010e+04, 1.00010e+04, 1.00010e+04, 1.00010e+04,\n",
       "        1.00010e+04, 1.00010e+04, 1.00010e+04, 1.00010e+04, 1.00010e+04,\n",
       "        1.00010e+04, 1.00010e+04]])"
      ]
     },
     "execution_count": 222,
     "metadata": {},
     "output_type": "execute_result"
    }
   ],
   "source": [
    "mat_x"
   ]
  },
  {
   "cell_type": "code",
   "execution_count": 221,
   "metadata": {},
   "outputs": [
    {
     "data": {
      "text/plain": [
       "array([[     3,      6,     18,     46,     82,    176,    400,    921,\n",
       "          2115,   4906,  11293,  25645],\n",
       "       [     4,     16,     26,     53,     95,    210,    476,   1077,\n",
       "          2495,   5636,  12759,  28984],\n",
       "       [     7,     21,     34,     59,    118,    237,    518,   1226,\n",
       "          2747,   6274,  14017,  31744],\n",
       "       [     7,     20,     32,     74,    142,    283,    645,   1440,\n",
       "          3208,   7155,  16021,  36172],\n",
       "       [    10,     19,     36,     81,    148,    303,    678,   1526,\n",
       "          3401,   7537,  16860,  38023],\n",
       "       [    10,     20,     43,     87,    180,    351,    754,   1670,\n",
       "          3695,   8113,  18278,  41022],\n",
       "       [    14,     25,     44,     99,    185,    393,    822,   1792,\n",
       "          3956,   8689,  19498,  43548],\n",
       "       [    14,     26,     46,    100,    194,    395,    863,   1925,\n",
       "          4118,   9163,  20505,  45721],\n",
       "       [    18,     28,     49,    114,    201,    416,    883,   1979,\n",
       "          4285,   9495,  21166,  47483],\n",
       "       [    21,     31,     54,    115,    222,    454,    936,   2083,\n",
       "          4506,  10033,  22324,  49495],\n",
       "       [    22,     32,     56,    125,    234,    476,    963,   2181,\n",
       "          4712,  10417,  23103,  51519],\n",
       "       [    28,     36,     58,    126,    233,    489,   1023,   2269,\n",
       "          4958,  10870,  24171,  53775],\n",
       "       [    32,     42,     65,    137,    248,    497,   1061,   2336,\n",
       "          5132,  11229,  24983,  55589],\n",
       "       [    36,     49,     68,    142,    264,    532,   1122,   2451,\n",
       "          5282,  11711,  25988,  57779],\n",
       "       [    43,     56,     76,    145,    273,    556,   1169,   2567,\n",
       "          5561,  12240,  27144,  59919],\n",
       "       [    51,     66,     85,    153,    292,    581,   1204,   2676,\n",
       "          5755,  12614,  27945,  61957],\n",
       "       [    61,     72,     95,    162,    302,    602,   1258,   2760,\n",
       "          5974,  13111,  28854,  64053],\n",
       "       [    76,     88,    114,    175,    322,    619,   1324,   2872,\n",
       "          6124,  13679,  30054,  66541],\n",
       "       [    90,    102,    126,    196,    337,    644,   1364,   3002,\n",
       "          6396,  14136,  31020,  68742],\n",
       "       [   109,    120,    143,    208,    364,    662,   1426,   3050,\n",
       "          6681,  14607,  32342,  71080],\n",
       "       [   134,    144,    168,    234,    387,    693,   1472,   3212,\n",
       "          6935,  15182,  33328,  73610],\n",
       "       [   167,    176,    204,    262,    432,    734,   1545,   3305,\n",
       "          7243,  15752,  34587,  76203],\n",
       "       [   206,    215,    241,    299,    467,    783,   1571,   3424,\n",
       "          7478,  16304,  35756,  78529],\n",
       "       [   253,    263,    290,    349,    508,    836,   1674,   3566,\n",
       "          7691,  16746,  36991,  81325],\n",
       "       [   316,    326,    353,    413,    567,    885,   1726,   3721,\n",
       "          8048,  17464,  38171,  83917],\n",
       "       [   392,    404,    426,    488,    659,    960,   1820,   3826,\n",
       "          8251,  17969,  39547,  86475],\n",
       "       [   490,    502,    525,    589,    749,   1062,   1907,   3911,\n",
       "          8473,  18535,  40618,  89406],\n",
       "       [   617,    629,    655,    715,    879,   1202,   2040,   4071,\n",
       "          8777,  19123,  41891,  91850],\n",
       "       [   772,    783,    811,    869,   1040,   1343,   2193,   4306,\n",
       "          9043,  19662,  43142,  94598],\n",
       "       [   972,    981,   1009,   1068,   1236,   1541,   2406,   4535,\n",
       "          9309,  20211,  44359,  97420],\n",
       "       [  1222,   1233,   1258,   1317,   1477,   1794,   2644,   4787,\n",
       "          9659,  20830,  45487, 100122],\n",
       "       [  1540,   1551,   1574,   1639,   1795,   2118,   2952,   5069,\n",
       "         10064,  21431,  46872, 102704],\n",
       "       [  1944,   1955,   1982,   2036,   2190,   2499,   3379,   5488,\n",
       "         10451,  22001,  48051, 105435],\n",
       "       [  2451,   2464,   2488,   2553,   2708,   3019,   3865,   6038,\n",
       "         10978,  22647,  49403, 108300],\n",
       "       [  3097,   3106,   3129,   3189,   3347,   3663,   4480,   6664,\n",
       "         11618,  23471,  50714, 110842],\n",
       "       [  3913,   3924,   3951,   4007,   4154,   4478,   5322,   7565,\n",
       "         12490,  24386,  52048, 114024],\n",
       "       [  4944,   4954,   4980,   5043,   5179,   5514,   6350,   8571,\n",
       "         13650,  25547,  53615, 116753],\n",
       "       [  6253,   6262,   6287,   6345,   6498,   6819,   7660,   9931,\n",
       "         14924,  26925,  55297, 119655],\n",
       "       [  7906,   7914,   7935,   7995,   8132,   8467,   9307,  11614,\n",
       "         16644,  28773,  57556, 122638],\n",
       "       [ 10004,  10014,  10039,  10099,  10236,  10581,  11406,  13781,\n",
       "         18771,  31060,  60134, 126302]])"
      ]
     },
     "execution_count": 221,
     "metadata": {},
     "output_type": "execute_result"
    }
   ],
   "source": [
    "mat_y"
   ]
  },
  {
   "cell_type": "code",
   "execution_count": 201,
   "metadata": {},
   "outputs": [],
   "source": [
    "nombre_de_lignes = 5000\n",
    "f1 = open(\"../data/5000_random_points.cin\", \"w\")\n",
    "for i in range(nombre_de_lignes):\n",
    "    #print(\"%.4f %.4f\" % (np.random.rand(),np.random.rand()))\n",
    "    f1.write(\"%.4f %.4f\" % (np.random.rand(),np.random.rand()))\n",
    "    if i<nombre_de_lignes-1:\n",
    "        f1.write(\"\\n\")\n",
    "f1.close()\n",
    "\n"
   ]
  }
 ],
 "metadata": {
  "interpreter": {
   "hash": "aee8b7b246df8f9039afb4144a1f6fd8d2ca17a180786b69acc140d282b71a49"
  },
  "kernelspec": {
   "display_name": "Python 3.8.6 64-bit",
   "name": "python3"
  },
  "language_info": {
   "codemirror_mode": {
    "name": "ipython",
    "version": 3
   },
   "file_extension": ".py",
   "mimetype": "text/x-python",
   "name": "python",
   "nbconvert_exporter": "python",
   "pygments_lexer": "ipython3",
   "version": "3.8.6"
  },
  "orig_nbformat": 4
 },
 "nbformat": 4,
 "nbformat_minor": 2
}